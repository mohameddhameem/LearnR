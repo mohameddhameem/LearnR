{
 "cells": [
  {
   "cell_type": "markdown",
   "metadata": {},
   "source": [
    "# CatBoost in R"
   ]
  },
  {
   "cell_type": "markdown",
   "metadata": {},
   "source": [
    "Install required package. below installation is for Mac. refer to below link for installation\n",
    "https://tech.yandex.com/catboost/doc/dg/installation/r-installation-binary-installation-docpage/"
   ]
  },
  {
   "cell_type": "code",
   "execution_count": 5,
   "metadata": {},
   "outputs": [
    {
     "name": "stderr",
     "output_type": "stream",
     "text": [
      "system (cmd0): /Users/mohameddhameemm/anaconda3/lib/R/bin/R CMD INSTALL\n",
      "also installing the dependencies ‘fs’, ‘git2r’, ‘usethis’\n",
      "\n",
      "foundpkgs: fs, git2r, usethis, devtools, /var/folders/v8/l4dqp5tx4cq_9cx2rxsy_dm80000gn/T//Rtmp6IUr1n/downloaded_packages/fs_1.2.6.tar.gz, /var/folders/v8/l4dqp5tx4cq_9cx2rxsy_dm80000gn/T//Rtmp6IUr1n/downloaded_packages/git2r_0.24.0.tar.gz, /var/folders/v8/l4dqp5tx4cq_9cx2rxsy_dm80000gn/T//Rtmp6IUr1n/downloaded_packages/usethis_1.4.0.tar.gz, /var/folders/v8/l4dqp5tx4cq_9cx2rxsy_dm80000gn/T//Rtmp6IUr1n/downloaded_packages/devtools_2.0.1.tar.gz\n",
      "files: /var/folders/v8/l4dqp5tx4cq_9cx2rxsy_dm80000gn/T//Rtmp6IUr1n/downloaded_packages/fs_1.2.6.tar.gz, \n",
      "\t/var/folders/v8/l4dqp5tx4cq_9cx2rxsy_dm80000gn/T//Rtmp6IUr1n/downloaded_packages/git2r_0.24.0.tar.gz, \n",
      "\t/var/folders/v8/l4dqp5tx4cq_9cx2rxsy_dm80000gn/T//Rtmp6IUr1n/downloaded_packages/usethis_1.4.0.tar.gz, \n",
      "\t/var/folders/v8/l4dqp5tx4cq_9cx2rxsy_dm80000gn/T//Rtmp6IUr1n/downloaded_packages/devtools_2.0.1.tar.gz\n",
      "Warning message in install.packages(\"devtools\", quiet = FALSE, verbose = TRUE):\n",
      "“installation of package ‘fs’ had non-zero exit status”Warning message in install.packages(\"devtools\", quiet = FALSE, verbose = TRUE):\n",
      "“installation of package ‘git2r’ had non-zero exit status”Warning message in install.packages(\"devtools\", quiet = FALSE, verbose = TRUE):\n",
      "“installation of package ‘usethis’ had non-zero exit status”Warning message in install.packages(\"devtools\", quiet = FALSE, verbose = TRUE):\n",
      "“installation of package ‘devtools’ had non-zero exit status”Updating HTML index of packages in '.Library'\n",
      "Making 'packages.html' ... done\n"
     ]
    }
   ],
   "source": [
    "install.packages('devtools', \n",
    "  quiet = FALSE, \n",
    "  verbose = TRUE)"
   ]
  },
  {
   "cell_type": "code",
   "execution_count": 6,
   "metadata": {},
   "outputs": [],
   "source": [
    "library(devtools)"
   ]
  },
  {
   "cell_type": "code",
   "execution_count": 7,
   "metadata": {},
   "outputs": [
    {
     "name": "stderr",
     "output_type": "stream",
     "text": [
      "Downloading package from url: https://github.com/catboost/catboost/releases/download/v0.12.2/catboost-R-Darwin-0.12.2.tgz\n",
      "Installing catboost\n",
      "Installing jsonlite\n",
      "'/Users/mohameddhameemm/anaconda3/lib/R/bin/R' --no-site-file --no-environ  \\\n",
      "  --no-save --no-restore --quiet CMD INSTALL  \\\n",
      "  '/private/var/folders/v8/l4dqp5tx4cq_9cx2rxsy_dm80000gn/T/Rtmp6IUr1n/devtools405c6c298327/jsonlite'  \\\n",
      "  --library='/Users/mohameddhameemm/anaconda3/lib/R/library' --install-tests \n",
      "\n",
      "'/Users/mohameddhameemm/anaconda3/lib/R/bin/R' --no-site-file --no-environ  \\\n",
      "  --no-save --no-restore --quiet CMD INSTALL  \\\n",
      "  '/private/var/folders/v8/l4dqp5tx4cq_9cx2rxsy_dm80000gn/T/Rtmp6IUr1n/devtools405c19e796ab/catboost'  \\\n",
      "  --library='/Users/mohameddhameemm/anaconda3/lib/R/library' --install-tests  \\\n",
      "  --no-multiarch \n",
      "\n"
     ]
    }
   ],
   "source": [
    "devtools::install_url('https://github.com/catboost/catboost/releases/download/v0.12.2/catboost-R-Darwin-0.12.2.tgz', args = c(\"--no-multiarch\"))"
   ]
  },
  {
   "cell_type": "code",
   "execution_count": 8,
   "metadata": {},
   "outputs": [],
   "source": [
    "library(catboost)"
   ]
  },
  {
   "cell_type": "code",
   "execution_count": 10,
   "metadata": {},
   "outputs": [],
   "source": [
    "testdata_file_path = 'http://archive.ics.uci.edu/ml/machine-learning-databases/adult/adult.data'\n",
    "traindata_file_path = 'http://archive.ics.uci.edu/ml/machine-learning-databases/adult/adult.test'\n",
    "testdata_data_description = 'http://archive.ics.uci.edu/ml/machine-learning-databases/adult/adult.names'\n",
    "#lets download all the required files to the current directory\n",
    "download.file(url = testdata_file_path, destfile = 'adult.data')\n",
    "download.file(url = traindata_file_path, destfile = 'adult.test')\n",
    "download.file(url = testdata_data_description, destfile = 'adult.names')"
   ]
  },
  {
   "cell_type": "code",
   "execution_count": 35,
   "metadata": {},
   "outputs": [
    {
     "data": {
      "text/html": [
       "'/Users/mohameddhameemm/anaconda3/lib/R/library/stats'"
      ],
      "text/latex": [
       "'/Users/mohameddhameemm/anaconda3/lib/R/library/stats'"
      ],
      "text/markdown": [
       "'/Users/mohameddhameemm/anaconda3/lib/R/library/stats'"
      ],
      "text/plain": [
       "[1] \"/Users/mohameddhameemm/anaconda3/lib/R/library/stats\""
      ]
     },
     "metadata": {},
     "output_type": "display_data"
    }
   ],
   "source": [
    "system.file(package = \"stats\")"
   ]
  },
  {
   "cell_type": "code",
   "execution_count": 36,
   "metadata": {},
   "outputs": [
    {
     "data": {
      "text/html": [
       "<ol class=list-inline>\n",
       "\t<li>'COPYRIGHTS.modreg'</li>\n",
       "\t<li>'demo'</li>\n",
       "\t<li>'DESCRIPTION'</li>\n",
       "\t<li>'help'</li>\n",
       "\t<li>'html'</li>\n",
       "\t<li>'INDEX'</li>\n",
       "\t<li>'libs'</li>\n",
       "\t<li>'Meta'</li>\n",
       "\t<li>'NAMESPACE'</li>\n",
       "\t<li>'R'</li>\n",
       "\t<li>'SOURCES.ts'</li>\n",
       "</ol>\n"
      ],
      "text/latex": [
       "\\begin{enumerate*}\n",
       "\\item 'COPYRIGHTS.modreg'\n",
       "\\item 'demo'\n",
       "\\item 'DESCRIPTION'\n",
       "\\item 'help'\n",
       "\\item 'html'\n",
       "\\item 'INDEX'\n",
       "\\item 'libs'\n",
       "\\item 'Meta'\n",
       "\\item 'NAMESPACE'\n",
       "\\item 'R'\n",
       "\\item 'SOURCES.ts'\n",
       "\\end{enumerate*}\n"
      ],
      "text/markdown": [
       "1. 'COPYRIGHTS.modreg'\n",
       "2. 'demo'\n",
       "3. 'DESCRIPTION'\n",
       "4. 'help'\n",
       "5. 'html'\n",
       "6. 'INDEX'\n",
       "7. 'libs'\n",
       "8. 'Meta'\n",
       "9. 'NAMESPACE'\n",
       "10. 'R'\n",
       "11. 'SOURCES.ts'\n",
       "\n",
       "\n"
      ],
      "text/plain": [
       " [1] \"COPYRIGHTS.modreg\" \"demo\"              \"DESCRIPTION\"      \n",
       " [4] \"help\"              \"html\"              \"INDEX\"            \n",
       " [7] \"libs\"              \"Meta\"              \"NAMESPACE\"        \n",
       "[10] \"R\"                 \"SOURCES.ts\"       "
      ]
     },
     "metadata": {},
     "output_type": "display_data"
    }
   ],
   "source": [
    "dir(system.file(package = \"stats\"))"
   ]
  },
  {
   "cell_type": "code",
   "execution_count": 56,
   "metadata": {},
   "outputs": [],
   "source": [
    "column_description_vector = rep('numeric', 15)\n",
    "cat_features <- c(3, 5, 7, 8, 9, 10, 11, 15)\n",
    "for (i in cat_features)\n",
    "  column_description_vector[i] <- 'factor'\n"
   ]
  },
  {
   "cell_type": "code",
   "execution_count": 60,
   "metadata": {},
   "outputs": [],
   "source": [
    "train <- read.csv('adult.csv')\n",
    "test <- read.csv('adult_test.csv')"
   ]
  },
  {
   "cell_type": "code",
   "execution_count": 61,
   "metadata": {},
   "outputs": [
    {
     "data": {
      "text/html": [
       "<table>\n",
       "<thead><tr><th scope=col>X39</th><th scope=col>State.gov</th><th scope=col>X77516</th><th scope=col>Bachelors</th><th scope=col>X13</th><th scope=col>Never.married</th><th scope=col>Adm.clerical</th><th scope=col>Not.in.family</th><th scope=col>White</th><th scope=col>Male</th><th scope=col>X2174</th><th scope=col>X0</th><th scope=col>X40</th><th scope=col>United.States</th><th scope=col>X..50K</th></tr></thead>\n",
       "<tbody>\n",
       "\t<tr><td>50                                                            </td><td> Self-emp-not-inc                                             </td><td> 83311                                                        </td><td> Bachelors                                                    </td><td>13                                                            </td><td><span style=white-space:pre-wrap> Married-civ-spouse   </span></td><td><span style=white-space:pre-wrap> Exec-managerial  </span>    </td><td><span style=white-space:pre-wrap> Husband      </span>        </td><td> White                                                        </td><td><span style=white-space:pre-wrap> Male  </span>               </td><td>0                                                             </td><td>0                                                             </td><td>13                                                            </td><td> United-States                                                </td><td> &lt;=50K                                                     </td></tr>\n",
       "\t<tr><td>38                                                            </td><td><span style=white-space:pre-wrap> Private         </span>     </td><td>215646                                                        </td><td><span style=white-space:pre-wrap> HS-grad  </span>            </td><td> 9                                                            </td><td><span style=white-space:pre-wrap> Divorced             </span></td><td> Handlers-cleaners                                            </td><td> Not-in-family                                                </td><td> White                                                        </td><td><span style=white-space:pre-wrap> Male  </span>               </td><td>0                                                             </td><td>0                                                             </td><td>40                                                            </td><td> United-States                                                </td><td> &lt;=50K                                                     </td></tr>\n",
       "\t<tr><td>53                                                            </td><td><span style=white-space:pre-wrap> Private         </span>     </td><td>234721                                                        </td><td><span style=white-space:pre-wrap> 11th     </span>            </td><td> 7                                                            </td><td><span style=white-space:pre-wrap> Married-civ-spouse   </span></td><td> Handlers-cleaners                                            </td><td><span style=white-space:pre-wrap> Husband      </span>        </td><td> Black                                                        </td><td><span style=white-space:pre-wrap> Male  </span>               </td><td>0                                                             </td><td>0                                                             </td><td>40                                                            </td><td> United-States                                                </td><td> &lt;=50K                                                     </td></tr>\n",
       "\t<tr><td>28                                                            </td><td><span style=white-space:pre-wrap> Private         </span>     </td><td>338409                                                        </td><td> Bachelors                                                    </td><td>13                                                            </td><td><span style=white-space:pre-wrap> Married-civ-spouse   </span></td><td><span style=white-space:pre-wrap> Prof-specialty   </span>    </td><td><span style=white-space:pre-wrap> Wife         </span>        </td><td> Black                                                        </td><td> Female                                                       </td><td>0                                                             </td><td>0                                                             </td><td>40                                                            </td><td><span style=white-space:pre-wrap> Cuba         </span>        </td><td> &lt;=50K                                                     </td></tr>\n",
       "\t<tr><td>37                                                            </td><td><span style=white-space:pre-wrap> Private         </span>     </td><td>284582                                                        </td><td><span style=white-space:pre-wrap> Masters  </span>            </td><td>14                                                            </td><td><span style=white-space:pre-wrap> Married-civ-spouse   </span></td><td><span style=white-space:pre-wrap> Exec-managerial  </span>    </td><td><span style=white-space:pre-wrap> Wife         </span>        </td><td> White                                                        </td><td> Female                                                       </td><td>0                                                             </td><td>0                                                             </td><td>40                                                            </td><td> United-States                                                </td><td> &lt;=50K                                                     </td></tr>\n",
       "\t<tr><td>49                                                        </td><td><span style=white-space:pre-wrap> Private         </span> </td><td>160187                                                    </td><td><span style=white-space:pre-wrap> 9th      </span>        </td><td> 5                                                        </td><td> Married-spouse-absent                                    </td><td><span style=white-space:pre-wrap> Other-service    </span></td><td> Not-in-family                                            </td><td> Black                                                    </td><td> Female                                                   </td><td>0                                                         </td><td>0                                                         </td><td>16                                                        </td><td><span style=white-space:pre-wrap> Jamaica      </span>    </td><td> &lt;=50K                                                 </td></tr>\n",
       "</tbody>\n",
       "</table>\n"
      ],
      "text/latex": [
       "\\begin{tabular}{r|lllllllllllllll}\n",
       " X39 & State.gov & X77516 & Bachelors & X13 & Never.married & Adm.clerical & Not.in.family & White & Male & X2174 & X0 & X40 & United.States & X..50K\\\\\n",
       "\\hline\n",
       "\t 50                     &  Self-emp-not-inc      &  83311                 &  Bachelors             & 13                     &  Married-civ-spouse    &  Exec-managerial       &  Husband               &  White                 &  Male                  & 0                      & 0                      & 13                     &  United-States         &  <=50K                \\\\\n",
       "\t 38                     &  Private               & 215646                 &  HS-grad               &  9                     &  Divorced              &  Handlers-cleaners     &  Not-in-family         &  White                 &  Male                  & 0                      & 0                      & 40                     &  United-States         &  <=50K                \\\\\n",
       "\t 53                     &  Private               & 234721                 &  11th                  &  7                     &  Married-civ-spouse    &  Handlers-cleaners     &  Husband               &  Black                 &  Male                  & 0                      & 0                      & 40                     &  United-States         &  <=50K                \\\\\n",
       "\t 28                     &  Private               & 338409                 &  Bachelors             & 13                     &  Married-civ-spouse    &  Prof-specialty        &  Wife                  &  Black                 &  Female                & 0                      & 0                      & 40                     &  Cuba                  &  <=50K                \\\\\n",
       "\t 37                     &  Private               & 284582                 &  Masters               & 14                     &  Married-civ-spouse    &  Exec-managerial       &  Wife                  &  White                 &  Female                & 0                      & 0                      & 40                     &  United-States         &  <=50K                \\\\\n",
       "\t 49                     &  Private               & 160187                 &  9th                   &  5                     &  Married-spouse-absent &  Other-service         &  Not-in-family         &  Black                 &  Female                & 0                      & 0                      & 16                     &  Jamaica               &  <=50K                \\\\\n",
       "\\end{tabular}\n"
      ],
      "text/markdown": [
       "\n",
       "X39 | State.gov | X77516 | Bachelors | X13 | Never.married | Adm.clerical | Not.in.family | White | Male | X2174 | X0 | X40 | United.States | X..50K | \n",
       "|---|---|---|---|---|---|\n",
       "| 50                     |  Self-emp-not-inc      |  83311                 |  Bachelors             | 13                     |  Married-civ-spouse    |  Exec-managerial       |  Husband               |  White                 |  Male                  | 0                      | 0                      | 13                     |  United-States         |  <=50K                 | \n",
       "| 38                     |  Private               | 215646                 |  HS-grad               |  9                     |  Divorced              |  Handlers-cleaners     |  Not-in-family         |  White                 |  Male                  | 0                      | 0                      | 40                     |  United-States         |  <=50K                 | \n",
       "| 53                     |  Private               | 234721                 |  11th                  |  7                     |  Married-civ-spouse    |  Handlers-cleaners     |  Husband               |  Black                 |  Male                  | 0                      | 0                      | 40                     |  United-States         |  <=50K                 | \n",
       "| 28                     |  Private               | 338409                 |  Bachelors             | 13                     |  Married-civ-spouse    |  Prof-specialty        |  Wife                  |  Black                 |  Female                | 0                      | 0                      | 40                     |  Cuba                  |  <=50K                 | \n",
       "| 37                     |  Private               | 284582                 |  Masters               | 14                     |  Married-civ-spouse    |  Exec-managerial       |  Wife                  |  White                 |  Female                | 0                      | 0                      | 40                     |  United-States         |  <=50K                 | \n",
       "| 49                     |  Private               | 160187                 |  9th                   |  5                     |  Married-spouse-absent |  Other-service         |  Not-in-family         |  Black                 |  Female                | 0                      | 0                      | 16                     |  Jamaica               |  <=50K                 | \n",
       "\n",
       "\n"
      ],
      "text/plain": [
       "  X39 State.gov         X77516 Bachelors  X13 Never.married         \n",
       "1 50   Self-emp-not-inc  83311  Bachelors 13   Married-civ-spouse   \n",
       "2 38   Private          215646  HS-grad    9   Divorced             \n",
       "3 53   Private          234721  11th       7   Married-civ-spouse   \n",
       "4 28   Private          338409  Bachelors 13   Married-civ-spouse   \n",
       "5 37   Private          284582  Masters   14   Married-civ-spouse   \n",
       "6 49   Private          160187  9th        5   Married-spouse-absent\n",
       "  Adm.clerical       Not.in.family  White  Male    X2174 X0 X40 United.States \n",
       "1  Exec-managerial    Husband        White  Male   0     0  13   United-States\n",
       "2  Handlers-cleaners  Not-in-family  White  Male   0     0  40   United-States\n",
       "3  Handlers-cleaners  Husband        Black  Male   0     0  40   United-States\n",
       "4  Prof-specialty     Wife           Black  Female 0     0  40   Cuba         \n",
       "5  Exec-managerial    Wife           White  Female 0     0  40   United-States\n",
       "6  Other-service      Not-in-family  Black  Female 0     0  16   Jamaica      \n",
       "  X..50K\n",
       "1  <=50K\n",
       "2  <=50K\n",
       "3  <=50K\n",
       "4  <=50K\n",
       "5  <=50K\n",
       "6  <=50K"
      ]
     },
     "metadata": {},
     "output_type": "display_data"
    }
   ],
   "source": [
    "head(train)"
   ]
  },
  {
   "cell_type": "code",
   "execution_count": 62,
   "metadata": {},
   "outputs": [
    {
     "data": {
      "text/html": [
       "<table>\n",
       "<thead><tr><th scope=col>X25</th><th scope=col>Private</th><th scope=col>X226802</th><th scope=col>X11th</th><th scope=col>X7</th><th scope=col>Never.married</th><th scope=col>Machine.op.inspct</th><th scope=col>Own.child</th><th scope=col>Black</th><th scope=col>Male</th><th scope=col>X0</th><th scope=col>X0.1</th><th scope=col>X40</th><th scope=col>United.States</th><th scope=col>X..50K.</th></tr></thead>\n",
       "<tbody>\n",
       "\t<tr><td>38                                                        </td><td><span style=white-space:pre-wrap> Private  </span>        </td><td> 89814                                                    </td><td><span style=white-space:pre-wrap> HS-grad     </span>     </td><td> 9                                                        </td><td> Married-civ-spouse                                       </td><td><span style=white-space:pre-wrap> Farming-fishing  </span></td><td><span style=white-space:pre-wrap> Husband      </span>    </td><td> White                                                    </td><td><span style=white-space:pre-wrap> Male  </span>           </td><td><span style=white-space:pre-wrap>   0</span>              </td><td>0                                                         </td><td>50                                                        </td><td> United-States                                            </td><td> &lt;=50K.                                                </td></tr>\n",
       "\t<tr><td>28                                                        </td><td> Local-gov                                                </td><td>336951                                                    </td><td><span style=white-space:pre-wrap> Assoc-acdm  </span>     </td><td>12                                                        </td><td> Married-civ-spouse                                       </td><td><span style=white-space:pre-wrap> Protective-serv  </span></td><td><span style=white-space:pre-wrap> Husband      </span>    </td><td> White                                                    </td><td><span style=white-space:pre-wrap> Male  </span>           </td><td><span style=white-space:pre-wrap>   0</span>              </td><td>0                                                         </td><td>40                                                        </td><td> United-States                                            </td><td> &gt;50K.                                                 </td></tr>\n",
       "\t<tr><td>44                                                    </td><td><span style=white-space:pre-wrap> Private  </span>    </td><td>160323                                                </td><td> Some-college                                         </td><td>10                                                    </td><td> Married-civ-spouse                                   </td><td> Machine-op-inspct                                    </td><td><span style=white-space:pre-wrap> Husband      </span></td><td> Black                                                </td><td><span style=white-space:pre-wrap> Male  </span>       </td><td>7688                                                  </td><td>0                                                     </td><td>40                                                    </td><td> United-States                                        </td><td> &gt;50K.                                             </td></tr>\n",
       "\t<tr><td>18                                                         </td><td><span style=white-space:pre-wrap> ?        </span>         </td><td>103497                                                     </td><td> Some-college                                              </td><td>10                                                         </td><td><span style=white-space:pre-wrap> Never-married     </span></td><td><span style=white-space:pre-wrap> ?                </span> </td><td><span style=white-space:pre-wrap> Own-child    </span>     </td><td> White                                                     </td><td> Female                                                    </td><td><span style=white-space:pre-wrap>   0</span>               </td><td>0                                                          </td><td>30                                                         </td><td> United-States                                             </td><td> &lt;=50K.                                                 </td></tr>\n",
       "\t<tr><td>34                                                         </td><td><span style=white-space:pre-wrap> Private  </span>         </td><td>198693                                                     </td><td><span style=white-space:pre-wrap> 10th        </span>      </td><td> 6                                                         </td><td><span style=white-space:pre-wrap> Never-married     </span></td><td><span style=white-space:pre-wrap> Other-service    </span> </td><td> Not-in-family                                             </td><td> White                                                     </td><td><span style=white-space:pre-wrap> Male  </span>            </td><td><span style=white-space:pre-wrap>   0</span>               </td><td>0                                                          </td><td>30                                                         </td><td> United-States                                             </td><td> &lt;=50K.                                                 </td></tr>\n",
       "\t<tr><td>29                                                         </td><td><span style=white-space:pre-wrap> ?        </span>         </td><td>227026                                                     </td><td><span style=white-space:pre-wrap> HS-grad     </span>      </td><td> 9                                                         </td><td><span style=white-space:pre-wrap> Never-married     </span></td><td><span style=white-space:pre-wrap> ?                </span> </td><td><span style=white-space:pre-wrap> Unmarried    </span>     </td><td> Black                                                     </td><td><span style=white-space:pre-wrap> Male  </span>            </td><td><span style=white-space:pre-wrap>   0</span>               </td><td>0                                                          </td><td>40                                                         </td><td> United-States                                             </td><td> &lt;=50K.                                                 </td></tr>\n",
       "</tbody>\n",
       "</table>\n"
      ],
      "text/latex": [
       "\\begin{tabular}{r|lllllllllllllll}\n",
       " X25 & Private & X226802 & X11th & X7 & Never.married & Machine.op.inspct & Own.child & Black & Male & X0 & X0.1 & X40 & United.States & X..50K.\\\\\n",
       "\\hline\n",
       "\t 38                  &  Private            &  89814              &  HS-grad            &  9                  &  Married-civ-spouse &  Farming-fishing    &  Husband            &  White              &  Male               &    0                & 0                   & 50                  &  United-States      &  <=50K.            \\\\\n",
       "\t 28                  &  Local-gov          & 336951              &  Assoc-acdm         & 12                  &  Married-civ-spouse &  Protective-serv    &  Husband            &  White              &  Male               &    0                & 0                   & 40                  &  United-States      &  >50K.             \\\\\n",
       "\t 44                  &  Private            & 160323              &  Some-college       & 10                  &  Married-civ-spouse &  Machine-op-inspct  &  Husband            &  Black              &  Male               & 7688                & 0                   & 40                  &  United-States      &  >50K.             \\\\\n",
       "\t 18                  &  ?                  & 103497              &  Some-college       & 10                  &  Never-married      &  ?                  &  Own-child          &  White              &  Female             &    0                & 0                   & 30                  &  United-States      &  <=50K.            \\\\\n",
       "\t 34                  &  Private            & 198693              &  10th               &  6                  &  Never-married      &  Other-service      &  Not-in-family      &  White              &  Male               &    0                & 0                   & 30                  &  United-States      &  <=50K.            \\\\\n",
       "\t 29                  &  ?                  & 227026              &  HS-grad            &  9                  &  Never-married      &  ?                  &  Unmarried          &  Black              &  Male               &    0                & 0                   & 40                  &  United-States      &  <=50K.            \\\\\n",
       "\\end{tabular}\n"
      ],
      "text/markdown": [
       "\n",
       "X25 | Private | X226802 | X11th | X7 | Never.married | Machine.op.inspct | Own.child | Black | Male | X0 | X0.1 | X40 | United.States | X..50K. | \n",
       "|---|---|---|---|---|---|\n",
       "| 38                  |  Private            |  89814              |  HS-grad            |  9                  |  Married-civ-spouse |  Farming-fishing    |  Husband            |  White              |  Male               |    0                | 0                   | 50                  |  United-States      |  <=50K.             | \n",
       "| 28                  |  Local-gov          | 336951              |  Assoc-acdm         | 12                  |  Married-civ-spouse |  Protective-serv    |  Husband            |  White              |  Male               |    0                | 0                   | 40                  |  United-States      |  >50K.              | \n",
       "| 44                  |  Private            | 160323              |  Some-college       | 10                  |  Married-civ-spouse |  Machine-op-inspct  |  Husband            |  Black              |  Male               | 7688                | 0                   | 40                  |  United-States      |  >50K.              | \n",
       "| 18                  |  ?                  | 103497              |  Some-college       | 10                  |  Never-married      |  ?                  |  Own-child          |  White              |  Female             |    0                | 0                   | 30                  |  United-States      |  <=50K.             | \n",
       "| 34                  |  Private            | 198693              |  10th               |  6                  |  Never-married      |  Other-service      |  Not-in-family      |  White              |  Male               |    0                | 0                   | 30                  |  United-States      |  <=50K.             | \n",
       "| 29                  |  ?                  | 227026              |  HS-grad            |  9                  |  Never-married      |  ?                  |  Unmarried          |  Black              |  Male               |    0                | 0                   | 40                  |  United-States      |  <=50K.             | \n",
       "\n",
       "\n"
      ],
      "text/plain": [
       "  X25 Private    X226802 X11th         X7 Never.married      \n",
       "1 38   Private    89814   HS-grad       9  Married-civ-spouse\n",
       "2 28   Local-gov 336951   Assoc-acdm   12  Married-civ-spouse\n",
       "3 44   Private   160323   Some-college 10  Married-civ-spouse\n",
       "4 18   ?         103497   Some-college 10  Never-married     \n",
       "5 34   Private   198693   10th          6  Never-married     \n",
       "6 29   ?         227026   HS-grad       9  Never-married     \n",
       "  Machine.op.inspct  Own.child      Black  Male    X0   X0.1 X40 United.States \n",
       "1  Farming-fishing    Husband        White  Male      0 0    50   United-States\n",
       "2  Protective-serv    Husband        White  Male      0 0    40   United-States\n",
       "3  Machine-op-inspct  Husband        Black  Male   7688 0    40   United-States\n",
       "4  ?                  Own-child      White  Female    0 0    30   United-States\n",
       "5  Other-service      Not-in-family  White  Male      0 0    30   United-States\n",
       "6  ?                  Unmarried      Black  Male      0 0    40   United-States\n",
       "  X..50K.\n",
       "1  <=50K.\n",
       "2  >50K. \n",
       "3  >50K. \n",
       "4  <=50K.\n",
       "5  <=50K.\n",
       "6  <=50K."
      ]
     },
     "metadata": {},
     "output_type": "display_data"
    }
   ],
   "source": [
    "head(test)"
   ]
  },
  {
   "cell_type": "code",
   "execution_count": 63,
   "metadata": {},
   "outputs": [],
   "source": [
    "target <- c(1)"
   ]
  },
  {
   "cell_type": "code",
   "execution_count": 64,
   "metadata": {},
   "outputs": [],
   "source": [
    "train_pool <- catboost.load_pool(data=train[,-target], \n",
    "                                 label = train[,target])"
   ]
  },
  {
   "cell_type": "code",
   "execution_count": 65,
   "metadata": {},
   "outputs": [],
   "source": [
    "test_pool <- catboost.load_pool(data=test[,-target], \n",
    "                                label = test[,target])"
   ]
  },
  {
   "cell_type": "code",
   "execution_count": 66,
   "metadata": {},
   "outputs": [
    {
     "data": {
      "text/html": [
       "50"
      ],
      "text/latex": [
       "50"
      ],
      "text/markdown": [
       "50"
      ],
      "text/plain": [
       "[1] 50"
      ]
     },
     "metadata": {},
     "output_type": "display_data"
    }
   ],
   "source": [
    "head(train_pool, 1)[[1]]"
   ]
  },
  {
   "cell_type": "code",
   "execution_count": 67,
   "metadata": {},
   "outputs": [
    {
     "data": {
      "text/html": [
       "38"
      ],
      "text/latex": [
       "38"
      ],
      "text/markdown": [
       "38"
      ],
      "text/plain": [
       "[1] 38"
      ]
     },
     "metadata": {},
     "output_type": "display_data"
    }
   ],
   "source": [
    "head(test_pool, 1)[[1]]"
   ]
  },
  {
   "cell_type": "code",
   "execution_count": 68,
   "metadata": {},
   "outputs": [],
   "source": [
    "dataset = matrix(c(1900,7,\n",
    "                   1896,1,\n",
    "                   1896,41),\n",
    "                 nrow=3, \n",
    "                 ncol=2, \n",
    "                 byrow = TRUE)"
   ]
  },
  {
   "cell_type": "code",
   "execution_count": 69,
   "metadata": {},
   "outputs": [],
   "source": [
    "label_values = c(0,1,1)\n",
    "\n",
    "fit_params <- list(iterations = 100,\n",
    "                   loss_function = 'Logloss')"
   ]
  },
  {
   "cell_type": "code",
   "execution_count": 70,
   "metadata": {},
   "outputs": [],
   "source": [
    "pool = catboost.load_pool(dataset, label = label_values)"
   ]
  },
  {
   "cell_type": "code",
   "execution_count": 71,
   "metadata": {},
   "outputs": [
    {
     "name": "stdout",
     "output_type": "stream",
     "text": [
      "Learning rate set to 0.025185\n",
      "0:\tlearn: 0.6742245\ttotal: 57.3ms\tremaining: 5.67s\n",
      "1:\tlearn: 0.6559739\ttotal: 58.8ms\tremaining: 2.88s\n",
      "2:\tlearn: 0.6383708\ttotal: 59.6ms\tremaining: 1.93s\n",
      "3:\tlearn: 0.6213909\ttotal: 61.3ms\tremaining: 1.47s\n",
      "4:\tlearn: 0.6050111\ttotal: 62.1ms\tremaining: 1.18s\n",
      "5:\tlearn: 0.5932667\ttotal: 62.9ms\tremaining: 986ms\n",
      "6:\tlearn: 0.5818324\ttotal: 63.7ms\tremaining: 847ms\n",
      "7:\tlearn: 0.5668198\ttotal: 64.5ms\tremaining: 742ms\n",
      "8:\tlearn: 0.5523332\ttotal: 65.1ms\tremaining: 658ms\n",
      "9:\tlearn: 0.5383523\ttotal: 65.8ms\tremaining: 593ms\n",
      "10:\tlearn: 0.5248576\ttotal: 66.5ms\tremaining: 538ms\n",
      "11:\tlearn: 0.5118303\ttotal: 67.3ms\tremaining: 494ms\n",
      "12:\tlearn: 0.5025173\ttotal: 68ms\tremaining: 455ms\n",
      "13:\tlearn: 0.4902490\ttotal: 69.5ms\tremaining: 427ms\n",
      "14:\tlearn: 0.4784007\ttotal: 70.2ms\tremaining: 398ms\n",
      "15:\tlearn: 0.4669561\ttotal: 70.9ms\tremaining: 372ms\n",
      "16:\tlearn: 0.4558993\ttotal: 71.5ms\tremaining: 349ms\n",
      "17:\tlearn: 0.4452151\ttotal: 72.3ms\tremaining: 329ms\n",
      "18:\tlearn: 0.4348892\ttotal: 73ms\tremaining: 311ms\n",
      "19:\tlearn: 0.4249074\ttotal: 73.7ms\tremaining: 295ms\n",
      "20:\tlearn: 0.4152563\ttotal: 74.4ms\tremaining: 280ms\n",
      "21:\tlearn: 0.4059230\ttotal: 75.3ms\tremaining: 267ms\n",
      "22:\tlearn: 0.3992595\ttotal: 76.2ms\tremaining: 255ms\n",
      "23:\tlearn: 0.3904413\ttotal: 76.9ms\tremaining: 243ms\n",
      "24:\tlearn: 0.3819087\ttotal: 77.7ms\tremaining: 233ms\n",
      "25:\tlearn: 0.3736508\ttotal: 78.4ms\tremaining: 223ms\n",
      "26:\tlearn: 0.3656570\ttotal: 79.1ms\tremaining: 214ms\n",
      "27:\tlearn: 0.3579169\ttotal: 79.8ms\tremaining: 205ms\n",
      "28:\tlearn: 0.3523938\ttotal: 80.5ms\tremaining: 197ms\n",
      "29:\tlearn: 0.3450650\ttotal: 81.2ms\tremaining: 189ms\n",
      "30:\tlearn: 0.3398397\ttotal: 82ms\tremaining: 182ms\n",
      "31:\tlearn: 0.3328958\ttotal: 82.6ms\tremaining: 176ms\n",
      "32:\tlearn: 0.3279487\ttotal: 83.4ms\tremaining: 169ms\n",
      "33:\tlearn: 0.3231144\ttotal: 84.3ms\tremaining: 164ms\n",
      "34:\tlearn: 0.3183896\ttotal: 85ms\tremaining: 158ms\n",
      "35:\tlearn: 0.3120869\ttotal: 85.6ms\tremaining: 152ms\n",
      "36:\tlearn: 0.3059745\ttotal: 86.4ms\tremaining: 147ms\n",
      "37:\tlearn: 0.3016304\ttotal: 87.1ms\tremaining: 142ms\n",
      "38:\tlearn: 0.2958262\ttotal: 87.8ms\tremaining: 137ms\n",
      "39:\tlearn: 0.2917040\ttotal: 88.6ms\tremaining: 133ms\n",
      "40:\tlearn: 0.2861887\ttotal: 89.3ms\tremaining: 129ms\n",
      "41:\tlearn: 0.2808348\ttotal: 90ms\tremaining: 124ms\n",
      "42:\tlearn: 0.2756364\ttotal: 90.8ms\tremaining: 120ms\n",
      "43:\tlearn: 0.2719454\ttotal: 91.5ms\tremaining: 116ms\n",
      "44:\tlearn: 0.2669986\ttotal: 92.2ms\tremaining: 113ms\n",
      "45:\tlearn: 0.2621925\ttotal: 92.9ms\tremaining: 109ms\n",
      "46:\tlearn: 0.2575222\ttotal: 93.6ms\tremaining: 106ms\n",
      "47:\tlearn: 0.2529828\ttotal: 94.3ms\tremaining: 102ms\n",
      "48:\tlearn: 0.2497593\ttotal: 95.2ms\tremaining: 99.1ms\n",
      "49:\tlearn: 0.2454318\ttotal: 95.9ms\tremaining: 95.9ms\n",
      "50:\tlearn: 0.2423607\ttotal: 96.6ms\tremaining: 92.8ms\n",
      "51:\tlearn: 0.2382326\ttotal: 97.4ms\tremaining: 89.9ms\n",
      "52:\tlearn: 0.2342165\ttotal: 98.1ms\tremaining: 87ms\n",
      "53:\tlearn: 0.2303083\ttotal: 98.8ms\tremaining: 84.1ms\n",
      "54:\tlearn: 0.2265044\ttotal: 99.5ms\tremaining: 81.4ms\n",
      "55:\tlearn: 0.2228011\ttotal: 101ms\tremaining: 79ms\n",
      "56:\tlearn: 0.2191950\ttotal: 101ms\tremaining: 76.5ms\n",
      "57:\tlearn: 0.2156829\ttotal: 102ms\tremaining: 74ms\n",
      "58:\tlearn: 0.2122615\ttotal: 103ms\tremaining: 71.7ms\n",
      "59:\tlearn: 0.2098300\ttotal: 104ms\tremaining: 69.4ms\n",
      "60:\tlearn: 0.2065560\ttotal: 105ms\tremaining: 67ms\n",
      "61:\tlearn: 0.2033649\ttotal: 106ms\tremaining: 64.7ms\n",
      "62:\tlearn: 0.2002539\ttotal: 106ms\tremaining: 62.5ms\n",
      "63:\tlearn: 0.1980428\ttotal: 107ms\tremaining: 60.4ms\n",
      "64:\tlearn: 0.1950621\ttotal: 108ms\tremaining: 58.2ms\n",
      "65:\tlearn: 0.1921547\ttotal: 109ms\tremaining: 56.1ms\n",
      "66:\tlearn: 0.1900887\ttotal: 110ms\tremaining: 54.1ms\n",
      "67:\tlearn: 0.1873006\ttotal: 111ms\tremaining: 52.1ms\n",
      "68:\tlearn: 0.1845797\ttotal: 111ms\tremaining: 50ms\n",
      "69:\tlearn: 0.1819239\ttotal: 112ms\tremaining: 48ms\n",
      "70:\tlearn: 0.1800364\ttotal: 113ms\tremaining: 46.1ms\n",
      "71:\tlearn: 0.1774864\ttotal: 114ms\tremaining: 44.2ms\n",
      "72:\tlearn: 0.1749963\ttotal: 114ms\tremaining: 42.2ms\n",
      "73:\tlearn: 0.1725640\ttotal: 115ms\tremaining: 40.4ms\n",
      "74:\tlearn: 0.1701878\ttotal: 116ms\tremaining: 38.6ms\n",
      "75:\tlearn: 0.1678661\ttotal: 116ms\tremaining: 36.8ms\n",
      "76:\tlearn: 0.1655971\ttotal: 117ms\tremaining: 35ms\n",
      "77:\tlearn: 0.1633792\ttotal: 118ms\tremaining: 33.2ms\n",
      "78:\tlearn: 0.1612110\ttotal: 119ms\tremaining: 31.5ms\n",
      "79:\tlearn: 0.1590909\ttotal: 119ms\tremaining: 29.8ms\n",
      "80:\tlearn: 0.1570175\ttotal: 120ms\tremaining: 28.2ms\n",
      "81:\tlearn: 0.1549895\ttotal: 121ms\tremaining: 26.5ms\n",
      "82:\tlearn: 0.1530055\ttotal: 122ms\tremaining: 24.9ms\n",
      "83:\tlearn: 0.1515909\ttotal: 123ms\tremaining: 23.3ms\n",
      "84:\tlearn: 0.1501990\ttotal: 123ms\tremaining: 21.8ms\n",
      "85:\tlearn: 0.1483156\ttotal: 124ms\tremaining: 20.2ms\n",
      "86:\tlearn: 0.1464720\ttotal: 125ms\tremaining: 18.6ms\n",
      "87:\tlearn: 0.1446673\ttotal: 126ms\tremaining: 17.1ms\n",
      "88:\tlearn: 0.1429002\ttotal: 127ms\tremaining: 15.7ms\n",
      "89:\tlearn: 0.1411697\ttotal: 128ms\tremaining: 14.2ms\n",
      "90:\tlearn: 0.1394748\ttotal: 129ms\tremaining: 12.7ms\n",
      "91:\tlearn: 0.1378145\ttotal: 129ms\tremaining: 11.2ms\n",
      "92:\tlearn: 0.1361879\ttotal: 130ms\tremaining: 9.79ms\n",
      "93:\tlearn: 0.1345939\ttotal: 131ms\tremaining: 8.35ms\n",
      "94:\tlearn: 0.1330319\ttotal: 131ms\tremaining: 6.92ms\n",
      "95:\tlearn: 0.1319163\ttotal: 132ms\tremaining: 5.5ms\n",
      "96:\tlearn: 0.1304065\ttotal: 133ms\tremaining: 4.11ms\n",
      "97:\tlearn: 0.1289262\ttotal: 134ms\tremaining: 2.73ms\n",
      "98:\tlearn: 0.1274748\ttotal: 134ms\tremaining: 1.36ms\n",
      "99:\tlearn: 0.1260514\ttotal: 135ms\tremaining: 0us\n"
     ]
    }
   ],
   "source": [
    "model <- catboost.train(pool, params = fit_params)"
   ]
  },
  {
   "cell_type": "code",
   "execution_count": 72,
   "metadata": {},
   "outputs": [],
   "source": [
    "prediction <- catboost.predict(model, \n",
    "                               pool, \n",
    "                               prediction_type = 'RawFormulaVal')"
   ]
  },
  {
   "cell_type": "code",
   "execution_count": 73,
   "metadata": {},
   "outputs": [
    {
     "data": {
      "text/html": [
       "<table>\n",
       "<tbody>\n",
       "\t<tr><td>0   </td><td>1   </td><td>1900</td><td> 7  </td></tr>\n",
       "\t<tr><td>1   </td><td>1   </td><td>1896</td><td> 1  </td></tr>\n",
       "\t<tr><td>1   </td><td>1   </td><td>1896</td><td>41  </td></tr>\n",
       "</tbody>\n",
       "</table>\n"
      ],
      "text/latex": [
       "\\begin{tabular}{llll}\n",
       "\t 0    & 1    & 1900 &  7  \\\\\n",
       "\t 1    & 1    & 1896 &  1  \\\\\n",
       "\t 1    & 1    & 1896 & 41  \\\\\n",
       "\\end{tabular}\n"
      ],
      "text/markdown": [
       "\n",
       "| 0    | 1    | 1900 |  7   | \n",
       "| 1    | 1    | 1896 |  1   | \n",
       "| 1    | 1    | 1896 | 41   | \n",
       "\n",
       "\n"
      ],
      "text/plain": [
       "     [,1] [,2] [,3] [,4]\n",
       "[1,] 0    1    1900  7  \n",
       "[2,] 1    1    1896  1  \n",
       "[3,] 1    1    1896 41  "
      ]
     },
     "metadata": {},
     "output_type": "display_data"
    }
   ],
   "source": [
    "head(pool, n = 10)"
   ]
  }
 ],
 "metadata": {
  "kernelspec": {
   "display_name": "R",
   "language": "R",
   "name": "ir"
  },
  "language_info": {
   "codemirror_mode": "r",
   "file_extension": ".r",
   "mimetype": "text/x-r-source",
   "name": "R",
   "pygments_lexer": "r",
   "version": "3.5.1"
  }
 },
 "nbformat": 4,
 "nbformat_minor": 2
}
